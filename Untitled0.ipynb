{
 "cells": [
  {
   "cell_type": "markdown",
   "metadata": {},
   "source": [
    "# Tensor intro"
   ]
  },
  {
   "cell_type": "code",
   "execution_count": 1,
   "metadata": {
    "id": "kywwuNna24Au"
   },
   "outputs": [],
   "source": [
    "import torch\n",
    "import pandas as pd\n",
    "import numpy as np\n",
    "import matplotlib.pyplot as plt"
   ]
  },
  {
   "cell_type": "code",
   "execution_count": 2,
   "metadata": {
    "colab": {
     "base_uri": "https://localhost:8080/"
    },
    "id": "WaG-8U8z4RDw",
    "outputId": "a637b213-b7b0-452c-c022-74191fbd9225"
   },
   "outputs": [
    {
     "name": "stdout",
     "output_type": "stream",
     "text": [
      "2.1.1+cu121\n"
     ]
    }
   ],
   "source": [
    "print(torch.__version__)"
   ]
  },
  {
   "cell_type": "code",
   "execution_count": 3,
   "metadata": {
    "colab": {
     "base_uri": "https://localhost:8080/"
    },
    "id": "99VcWHMJ41ad",
    "outputId": "a89253f0-8740-4286-9965-c5a765d94cc6"
   },
   "outputs": [
    {
     "data": {
      "text/plain": [
       "tensor(7)"
      ]
     },
     "execution_count": 3,
     "metadata": {},
     "output_type": "execute_result"
    }
   ],
   "source": [
    "scaler = torch.tensor(7)\n",
    "scaler"
   ]
  },
  {
   "cell_type": "code",
   "execution_count": 4,
   "metadata": {
    "colab": {
     "base_uri": "https://localhost:8080/"
    },
    "id": "RqBFFvbs8qPG",
    "outputId": "1fd1451e-d733-41aa-d96b-962f5418a543"
   },
   "outputs": [
    {
     "data": {
      "text/plain": [
       "0"
      ]
     },
     "execution_count": 4,
     "metadata": {},
     "output_type": "execute_result"
    }
   ],
   "source": [
    "scaler.ndim"
   ]
  },
  {
   "cell_type": "code",
   "execution_count": 5,
   "metadata": {
    "colab": {
     "base_uri": "https://localhost:8080/"
    },
    "id": "j8qYqXSI8xbo",
    "outputId": "484989d8-759d-46e4-f4eb-96346b66316d"
   },
   "outputs": [
    {
     "data": {
      "text/plain": [
       "7"
      ]
     },
     "execution_count": 5,
     "metadata": {},
     "output_type": "execute_result"
    }
   ],
   "source": [
    "scaler.item()"
   ]
  },
  {
   "cell_type": "code",
   "execution_count": 6,
   "metadata": {
    "colab": {
     "base_uri": "https://localhost:8080/"
    },
    "id": "NIwwPf7R8zD3",
    "outputId": "a5a8f8fc-c5a1-47cb-cd73-9fd13982b619"
   },
   "outputs": [
    {
     "data": {
      "text/plain": [
       "tensor([7, 7])"
      ]
     },
     "execution_count": 6,
     "metadata": {},
     "output_type": "execute_result"
    }
   ],
   "source": [
    "vector = torch.tensor([7, 7])\n",
    "vector"
   ]
  },
  {
   "cell_type": "code",
   "execution_count": 7,
   "metadata": {
    "colab": {
     "base_uri": "https://localhost:8080/"
    },
    "id": "xUhcmUGX89Cl",
    "outputId": "8459111e-45e6-4d40-98c4-6269c50ce9fa"
   },
   "outputs": [
    {
     "data": {
      "text/plain": [
       "1"
      ]
     },
     "execution_count": 7,
     "metadata": {},
     "output_type": "execute_result"
    }
   ],
   "source": [
    "vector.ndim"
   ]
  },
  {
   "cell_type": "code",
   "execution_count": 8,
   "metadata": {
    "colab": {
     "base_uri": "https://localhost:8080/"
    },
    "id": "J7pN4BwA9GYX",
    "outputId": "e86be68a-c3b7-4250-9dd5-886d409a4a4b"
   },
   "outputs": [
    {
     "data": {
      "text/plain": [
       "torch.Size([2])"
      ]
     },
     "execution_count": 8,
     "metadata": {},
     "output_type": "execute_result"
    }
   ],
   "source": [
    "vector.shape"
   ]
  },
  {
   "cell_type": "code",
   "execution_count": 9,
   "metadata": {
    "id": "95UJsatH9K-T"
   },
   "outputs": [],
   "source": [
    "MATRIX = torch.tensor([[6, 7],\n",
    "                 [8, 9]])\n"
   ]
  },
  {
   "cell_type": "code",
   "execution_count": 10,
   "metadata": {
    "colab": {
     "base_uri": "https://localhost:8080/"
    },
    "id": "qL6CqFJi9muO",
    "outputId": "95313ee7-c61c-4092-c440-c23861893159"
   },
   "outputs": [
    {
     "data": {
      "text/plain": [
       "2"
      ]
     },
     "execution_count": 10,
     "metadata": {},
     "output_type": "execute_result"
    }
   ],
   "source": [
    "MATRIX.ndim"
   ]
  },
  {
   "cell_type": "code",
   "execution_count": 11,
   "metadata": {
    "colab": {
     "base_uri": "https://localhost:8080/"
    },
    "id": "NBmerZHx-jOP",
    "outputId": "f3c5cd2d-8d32-4ef7-aa1a-66099414e592"
   },
   "outputs": [
    {
     "data": {
      "text/plain": [
       "torch.Size([2, 2])"
      ]
     },
     "execution_count": 11,
     "metadata": {},
     "output_type": "execute_result"
    }
   ],
   "source": [
    "MATRIX.shape"
   ]
  },
  {
   "cell_type": "code",
   "execution_count": 12,
   "metadata": {
    "colab": {
     "base_uri": "https://localhost:8080/"
    },
    "id": "8VRBpC8c9t_t",
    "outputId": "334b238c-da62-4814-d63e-f764e4622f49"
   },
   "outputs": [
    {
     "data": {
      "text/plain": [
       "tensor([6, 7])"
      ]
     },
     "execution_count": 12,
     "metadata": {},
     "output_type": "execute_result"
    }
   ],
   "source": [
    "MATRIX[0]"
   ]
  },
  {
   "cell_type": "code",
   "execution_count": 13,
   "metadata": {
    "colab": {
     "base_uri": "https://localhost:8080/"
    },
    "id": "24VqXSre-dSi",
    "outputId": "1e3c697c-34fe-4373-cfac-585b95f28749"
   },
   "outputs": [
    {
     "data": {
      "text/plain": [
       "tensor([8, 9])"
      ]
     },
     "execution_count": 13,
     "metadata": {},
     "output_type": "execute_result"
    }
   ],
   "source": [
    "MATRIX[1]"
   ]
  },
  {
   "cell_type": "code",
   "execution_count": 14,
   "metadata": {
    "colab": {
     "base_uri": "https://localhost:8080/"
    },
    "id": "p2WjaUx2-emd",
    "outputId": "de771f3b-8449-4af1-91e8-bd28cfdd4135"
   },
   "outputs": [
    {
     "data": {
      "text/plain": [
       "tensor([[[1, 2, 3],\n",
       "         [3, 4, 5],\n",
       "         [2, 4, 5]]])"
      ]
     },
     "execution_count": 14,
     "metadata": {},
     "output_type": "execute_result"
    }
   ],
   "source": [
    "TENSOR = torch.tensor([[[1, 2, 3],\n",
    "                        [3, 4, 5],\n",
    "                        [2, 4, 5]]])\n",
    "TENSOR"
   ]
  },
  {
   "cell_type": "code",
   "execution_count": 15,
   "metadata": {
    "colab": {
     "base_uri": "https://localhost:8080/"
    },
    "id": "sPxAYw-q_BLb",
    "outputId": "1bf010e0-9fce-4c92-c635-7e385dfe2d63"
   },
   "outputs": [
    {
     "data": {
      "text/plain": [
       "3"
      ]
     },
     "execution_count": 15,
     "metadata": {},
     "output_type": "execute_result"
    }
   ],
   "source": [
    "TENSOR.ndim"
   ]
  },
  {
   "cell_type": "code",
   "execution_count": 16,
   "metadata": {
    "colab": {
     "base_uri": "https://localhost:8080/"
    },
    "id": "4MUVWjBI_Fk8",
    "outputId": "f7dabf42-3899-4652-ad2e-288c17b936a6"
   },
   "outputs": [
    {
     "data": {
      "text/plain": [
       "torch.Size([1, 3, 3])"
      ]
     },
     "execution_count": 16,
     "metadata": {},
     "output_type": "execute_result"
    }
   ],
   "source": [
    "TENSOR.shape"
   ]
  },
  {
   "cell_type": "code",
   "execution_count": 17,
   "metadata": {
    "colab": {
     "base_uri": "https://localhost:8080/"
    },
    "id": "kxgHUvnE_HlB",
    "outputId": "0b472461-24d1-4626-88f6-c80311083356"
   },
   "outputs": [
    {
     "data": {
      "text/plain": [
       "tensor([[1, 2, 3],\n",
       "        [3, 4, 5],\n",
       "        [2, 4, 5]])"
      ]
     },
     "execution_count": 17,
     "metadata": {},
     "output_type": "execute_result"
    }
   ],
   "source": [
    "TENSOR[0]"
   ]
  },
  {
   "cell_type": "code",
   "execution_count": 18,
   "metadata": {
    "colab": {
     "base_uri": "https://localhost:8080/"
    },
    "id": "cQ3-eQAhAnvP",
    "outputId": "ae7b0176-ad6e-45c1-8c06-cdbff3e193e8"
   },
   "outputs": [
    {
     "data": {
      "text/plain": [
       "tensor([3, 4, 5])"
      ]
     },
     "execution_count": 18,
     "metadata": {},
     "output_type": "execute_result"
    }
   ],
   "source": [
    "TENSOR[0][1]"
   ]
  },
  {
   "cell_type": "code",
   "execution_count": 19,
   "metadata": {
    "colab": {
     "base_uri": "https://localhost:8080/"
    },
    "id": "YmdcqCrcAq2t",
    "outputId": "8c31cd88-c2f9-41ce-9ab8-b1b47f2372b3"
   },
   "outputs": [
    {
     "data": {
      "text/plain": [
       "tensor(4)"
      ]
     },
     "execution_count": 19,
     "metadata": {},
     "output_type": "execute_result"
    }
   ],
   "source": [
    "TENSOR[0][1][1]"
   ]
  },
  {
   "cell_type": "markdown",
   "metadata": {},
   "source": [
    "## Random tensor"
   ]
  },
  {
   "cell_type": "code",
   "execution_count": 20,
   "metadata": {
    "id": "eKLcik8hAvOp"
   },
   "outputs": [
    {
     "data": {
      "text/plain": [
       "tensor([[0.1399, 0.9044, 0.3581, 0.8750],\n",
       "        [0.3485, 0.8526, 0.1687, 0.0119],\n",
       "        [0.8515, 0.5783, 0.4107, 0.4649]])"
      ]
     },
     "execution_count": 20,
     "metadata": {},
     "output_type": "execute_result"
    }
   ],
   "source": [
    "random_tensor = torch.rand(3,4) \n",
    "random_tensor"
   ]
  },
  {
   "cell_type": "code",
   "execution_count": 21,
   "metadata": {},
   "outputs": [
    {
     "data": {
      "text/plain": [
       "2"
      ]
     },
     "execution_count": 21,
     "metadata": {},
     "output_type": "execute_result"
    }
   ],
   "source": [
    "random_tensor.ndim"
   ]
  },
  {
   "cell_type": "code",
   "execution_count": 22,
   "metadata": {},
   "outputs": [
    {
     "data": {
      "text/plain": [
       "tensor([[[0.1557, 0.8127, 0.5969, 0.6197, 0.5507, 0.6813, 0.9262, 0.5699,\n",
       "          0.6043, 0.5435],\n",
       "         [0.5710, 0.5878, 0.6672, 0.0956, 0.4112, 0.8747, 0.8119, 0.4418,\n",
       "          0.3810, 0.8358],\n",
       "         [0.2171, 0.9499, 0.6304, 0.7292, 0.1482, 0.7860, 0.6440, 0.8596,\n",
       "          0.1428, 0.0535],\n",
       "         [0.2152, 0.1333, 0.5865, 0.5406, 0.7554, 0.1464, 0.3791, 0.4015,\n",
       "          0.4883, 0.9131],\n",
       "         [0.5592, 0.3191, 0.1852, 0.5318, 0.7084, 0.0894, 0.6145, 0.3202,\n",
       "          0.1627, 0.4240],\n",
       "         [0.9075, 0.2345, 0.5353, 0.4302, 0.6601, 0.4705, 0.6424, 0.1623,\n",
       "          0.2650, 0.4065],\n",
       "         [0.3376, 0.6805, 0.9506, 0.7775, 0.8281, 0.5567, 0.0333, 0.1802,\n",
       "          0.4549, 0.0629],\n",
       "         [0.8463, 0.3069, 0.7173, 0.1034, 0.2116, 0.2545, 0.3962, 0.7290,\n",
       "          0.3518, 0.1383],\n",
       "         [0.5122, 0.9051, 0.4100, 0.5038, 0.0037, 0.2668, 0.2641, 0.1917,\n",
       "          0.1499, 0.8281],\n",
       "         [0.3419, 0.8793, 0.4208, 0.3083, 0.9002, 0.9264, 0.3579, 0.6335,\n",
       "          0.0829, 0.2317]]])"
      ]
     },
     "execution_count": 22,
     "metadata": {},
     "output_type": "execute_result"
    }
   ],
   "source": [
    "random_tensor = torch.rand(1, 10,10) \n",
    "random_tensor"
   ]
  },
  {
   "cell_type": "code",
   "execution_count": 23,
   "metadata": {},
   "outputs": [
    {
     "data": {
      "text/plain": [
       "3"
      ]
     },
     "execution_count": 23,
     "metadata": {},
     "output_type": "execute_result"
    }
   ],
   "source": [
    "random_tensor.ndim"
   ]
  },
  {
   "cell_type": "code",
   "execution_count": 24,
   "metadata": {},
   "outputs": [
    {
     "data": {
      "text/plain": [
       "tensor([[[0.4170, 0.3827, 0.4993],\n",
       "         [0.1338, 0.4121, 0.9625],\n",
       "         [0.7472, 0.6222, 0.5945],\n",
       "         ...,\n",
       "         [0.9127, 0.3744, 0.0057],\n",
       "         [0.4768, 0.1923, 0.8373],\n",
       "         [0.7378, 0.2557, 0.1446]],\n",
       "\n",
       "        [[0.8339, 0.5775, 0.2067],\n",
       "         [0.3134, 0.1870, 0.0793],\n",
       "         [0.8670, 0.8087, 0.8566],\n",
       "         ...,\n",
       "         [0.9918, 0.3832, 0.8329],\n",
       "         [0.3307, 0.0314, 0.7322],\n",
       "         [0.6640, 0.5944, 0.0300]],\n",
       "\n",
       "        [[0.5419, 0.8358, 0.8536],\n",
       "         [0.9037, 0.6553, 0.8111],\n",
       "         [0.8538, 0.7310, 0.5891],\n",
       "         ...,\n",
       "         [0.5482, 0.3410, 0.9447],\n",
       "         [0.3801, 0.5293, 0.2375],\n",
       "         [0.7865, 0.9043, 0.7442]],\n",
       "\n",
       "        ...,\n",
       "\n",
       "        [[0.8026, 0.2522, 0.7086],\n",
       "         [0.9679, 0.4176, 0.3192],\n",
       "         [0.6166, 0.3213, 0.0740],\n",
       "         ...,\n",
       "         [0.3464, 0.8580, 0.4371],\n",
       "         [0.5863, 0.5292, 0.6719],\n",
       "         [0.0459, 0.7598, 0.3064]],\n",
       "\n",
       "        [[0.7121, 0.7985, 0.2675],\n",
       "         [0.8291, 0.1596, 0.4782],\n",
       "         [0.2364, 0.7826, 0.8491],\n",
       "         ...,\n",
       "         [0.2262, 0.6492, 0.9858],\n",
       "         [0.9722, 0.6946, 0.5716],\n",
       "         [0.4812, 0.6539, 0.9111]],\n",
       "\n",
       "        [[0.7114, 0.2037, 0.3647],\n",
       "         [0.7271, 0.9022, 0.2951],\n",
       "         [0.1028, 0.7918, 0.9221],\n",
       "         ...,\n",
       "         [0.2018, 0.0881, 0.4812],\n",
       "         [0.9286, 0.3089, 0.8838],\n",
       "         [0.5118, 0.4916, 0.7762]]])"
      ]
     },
     "execution_count": 24,
     "metadata": {},
     "output_type": "execute_result"
    }
   ],
   "source": [
    "# create a random tensor with similar shape of an image\n",
    "random_image_size_tensor = torch.rand(size=(224, 224, 3)) # height, width, color channels (R,G,B)\n",
    "random_image_size_tensor"
   ]
  },
  {
   "cell_type": "code",
   "execution_count": 25,
   "metadata": {},
   "outputs": [
    {
     "data": {
      "text/plain": [
       "torch.Size([224, 224, 3])"
      ]
     },
     "execution_count": 25,
     "metadata": {},
     "output_type": "execute_result"
    }
   ],
   "source": [
    "random_image_size_tensor.shape"
   ]
  },
  {
   "cell_type": "code",
   "execution_count": 26,
   "metadata": {},
   "outputs": [
    {
     "data": {
      "text/plain": [
       "3"
      ]
     },
     "execution_count": 26,
     "metadata": {},
     "output_type": "execute_result"
    }
   ],
   "source": [
    "random_image_size_tensor.ndim"
   ]
  },
  {
   "cell_type": "markdown",
   "metadata": {},
   "source": [
    "### zeros and ones"
   ]
  },
  {
   "cell_type": "code",
   "execution_count": 27,
   "metadata": {},
   "outputs": [
    {
     "data": {
      "text/plain": [
       "tensor([[0., 0., 0.],\n",
       "        [0., 0., 0.],\n",
       "        [0., 0., 0.]])"
      ]
     },
     "execution_count": 27,
     "metadata": {},
     "output_type": "execute_result"
    }
   ],
   "source": [
    "zeros = torch.zeros(3, 3)\n",
    "zeros"
   ]
  },
  {
   "cell_type": "code",
   "execution_count": 28,
   "metadata": {},
   "outputs": [
    {
     "data": {
      "text/plain": [
       "tensor([[1., 1., 1.],\n",
       "        [1., 1., 1.]])"
      ]
     },
     "execution_count": 28,
     "metadata": {},
     "output_type": "execute_result"
    }
   ],
   "source": [
    "onse = torch.ones(2, 3)\n",
    "onse"
   ]
  },
  {
   "cell_type": "code",
   "execution_count": null,
   "metadata": {},
   "outputs": [],
   "source": []
  }
 ],
 "metadata": {
  "colab": {
   "authorship_tag": "ABX9TyMXaqnBqDNj83H34SD2O8m+",
   "include_colab_link": true,
   "provenance": []
  },
  "kernelspec": {
   "display_name": "Python 3 (ipykernel)",
   "language": "python",
   "name": "python3"
  },
  "language_info": {
   "codemirror_mode": {
    "name": "ipython",
    "version": 3
   },
   "file_extension": ".py",
   "mimetype": "text/x-python",
   "name": "python",
   "nbconvert_exporter": "python",
   "pygments_lexer": "ipython3",
   "version": "3.11.6"
  }
 },
 "nbformat": 4,
 "nbformat_minor": 4
}
