{
 "cells": [
  {
   "cell_type": "code",
   "execution_count": 1,
   "metadata": {},
   "outputs": [
    {
     "data": {
      "text/plain": [
       "{1: 'data (prepare and load)',\n",
       " 2: 'build model',\n",
       " 3: 'fitting the model to data(traning)',\n",
       " 4: 'making predictions and evaluting a model (inference)',\n",
       " 5: 'saving and loading a model',\n",
       " 6: 'putting it all together'}"
      ]
     },
     "execution_count": 1,
     "metadata": {},
     "output_type": "execute_result"
    }
   ],
   "source": [
    "what_were_covering = {1:'data (prepare and load)',\n",
    "                      2:'build model',\n",
    "                      3:'fitting the model to data(traning)',\n",
    "                      4:'making predictions and evaluting a model (inference)',\n",
    "                      5:'saving and loading a model',\n",
    "                      6:'putting it all together'}\n",
    "what_were_covering"
   ]
  },
  {
   "cell_type": "code",
   "execution_count": 96,
   "metadata": {},
   "outputs": [],
   "source": [
    "import torch\n",
    "from torch import nn # nn contains all of PyTorch's building blocks for neural networks\n",
    "import matplotlib.pyplot as plt\n",
    "import numpy as np"
   ]
  },
  {
   "cell_type": "markdown",
   "metadata": {},
   "source": [
    "## 1. Data (preparing and loading)\n",
    "\n",
    "Data can be almost anything... in machine learning.\n",
    "\n",
    "* Excel speadsheet\n",
    "* Image of any kind\n",
    "* Videos (YouTube has lots of data...)\n",
    "* Audio like songs or podcasts\n",
    "* DNA \n",
    "* Text\n",
    "\n",
    "Machine learning is a game of two parts:\n",
    "1. Get data into a numerical representation.\n",
    "2. Build a model to learn patterns in that numerical representation.\n",
    "\n",
    "To showcase this, let's create some *known* data using the linear regression formula.\n",
    "\n",
    "We'll use a linear regression formula to make a straight line with *known* **parameters**."
   ]
  },
  {
   "cell_type": "code",
   "execution_count": 3,
   "metadata": {},
   "outputs": [],
   "source": [
    "# create *known* parameters\n",
    "weight = 0.7\n",
    "bias = 0.3\n",
    "\n",
    "# create \n",
    "start = 0\n",
    "end = 1\n",
    "step = 0.02\n",
    "X = torch.arange(start, end, step).unsqueeze(dim=1)\n",
    "y = weight * X + bias"
   ]
  },
  {
   "cell_type": "code",
   "execution_count": 4,
   "metadata": {},
   "outputs": [
    {
     "data": {
      "text/plain": [
       "tensor([[0.0000],\n",
       "        [0.0200],\n",
       "        [0.0400],\n",
       "        [0.0600],\n",
       "        [0.0800],\n",
       "        [0.1000],\n",
       "        [0.1200],\n",
       "        [0.1400],\n",
       "        [0.1600],\n",
       "        [0.1800]])"
      ]
     },
     "execution_count": 4,
     "metadata": {},
     "output_type": "execute_result"
    }
   ],
   "source": [
    "X[:10]"
   ]
  },
  {
   "cell_type": "code",
   "execution_count": 5,
   "metadata": {},
   "outputs": [
    {
     "data": {
      "text/plain": [
       "tensor([[0.3000],\n",
       "        [0.3140],\n",
       "        [0.3280],\n",
       "        [0.3420],\n",
       "        [0.3560],\n",
       "        [0.3700],\n",
       "        [0.3840],\n",
       "        [0.3980],\n",
       "        [0.4120],\n",
       "        [0.4260]])"
      ]
     },
     "execution_count": 5,
     "metadata": {},
     "output_type": "execute_result"
    }
   ],
   "source": [
    "y[:10]"
   ]
  },
  {
   "cell_type": "code",
   "execution_count": 6,
   "metadata": {},
   "outputs": [
    {
     "data": {
      "text/plain": [
       "(50, 50)"
      ]
     },
     "execution_count": 6,
     "metadata": {},
     "output_type": "execute_result"
    }
   ],
   "source": [
    "len(X), len(y)"
   ]
  },
  {
   "cell_type": "markdown",
   "metadata": {},
   "source": [
    "### Splitting data into training and test sets (one of the most important concepts in machine learning in general)\n",
    "Let's create a training and test set with our data."
   ]
  },
  {
   "cell_type": "code",
   "execution_count": 7,
   "metadata": {},
   "outputs": [
    {
     "data": {
      "text/plain": [
       "40"
      ]
     },
     "execution_count": 7,
     "metadata": {},
     "output_type": "execute_result"
    }
   ],
   "source": [
    "# create a train/test split\n",
    "train_split = int(0.8 * len(X))\n",
    "train_split"
   ]
  },
  {
   "cell_type": "code",
   "execution_count": 8,
   "metadata": {},
   "outputs": [
    {
     "data": {
      "text/plain": [
       "(40, 40, 10, 10)"
      ]
     },
     "execution_count": 8,
     "metadata": {},
     "output_type": "execute_result"
    }
   ],
   "source": [
    "x_train, y_train = X[:train_split], y[:train_split]\n",
    "x_test, y_test = X[train_split:], y[train_split:]\n",
    "\n",
    "len(x_train), len(y_train), len(x_test), len(y_test) "
   ]
  },
  {
   "cell_type": "markdown",
   "metadata": {},
   "source": [
    "How might we better  visualize our data?\n",
    "\n",
    "This is where the data explorer's motto comes in!\n",
    "\n",
    "\"Visualize, visualize, visualize\""
   ]
  },
  {
   "cell_type": "code",
   "execution_count": 9,
   "metadata": {},
   "outputs": [],
   "source": [
    "def plot_predictions(train_data=x_train, train_labels=y_train, test_data=x_test, test_labels=y_test, predictions=None):\n",
    "    \"\"\"\n",
    "    Plots training data, test data and compares predictions.\n",
    "    \"\"\"\n",
    "    plt.figure(figsize=(10, 7))\n",
    "    \n",
    "    # plot training data in blue\n",
    "    plt.scatter(train_data, train_labels, c='b', s=4, label='Training data')\n",
    "\n",
    "    # plot test data in green\n",
    "    plt.scatter(test_data, test_labels, c='g', s=4, label='Testing data')\n",
    "\n",
    "    # are there predictions?\n",
    "    if predictions is not None:\n",
    "        # plot the predictions\n",
    "        plt.scatter(test_data, predictions, c='r', s=4, label='Predictions')\n",
    "    \n",
    "    # show the legend\n",
    "    plt.legend(prop={'size':14})"
   ]
  },
  {
   "cell_type": "code",
   "execution_count": 10,
   "metadata": {},
   "outputs": [
    {
     "data": {
      "image/png": "[encoded data removed]",
      "text/plain": [
       "<Figure size 1000x700 with 1 Axes>"
      ]
     },
     "metadata": {},
     "output_type": "display_data"
    }
   ],
   "source": [
    "plot_predictions()"
   ]
  },
  {
   "cell_type": "markdown",
   "metadata": {},
   "source": [
    "## 2. Build model\n",
    "\n",
    "our first pytorch model!\n",
    "\n",
    "what our model does:\n",
    "* Start with random values (weight & bias)\n",
    "* Look at training data and adjust the random values to better represent  (or get closer to ) the ideal values (the weight & bias values we used to create the data )\n",
    "\n",
    "How does it do so?\n",
    "1. Gradient decent\n",
    "2. Backpropagation"
   ]
  },
  {
   "cell_type": "code",
   "execution_count": 11,
   "metadata": {},
   "outputs": [],
   "source": [
    "from torch import nn\n",
    "\n",
    "# Create  linear regression model class \n",
    "class linearRegressionModel(nn.Module): # <- almost everything in PyTorch inherhits from nn.Module\n",
    "    def __init__(self):\n",
    "        super().__init__()\n",
    "        self.weights = nn.Parameter(torch.randn(1, requires_grad=True, dtype=torch.float))\n",
    "        self.bias = nn.Parameter(torch.randn(1, requires_grad=True, dtype=torch.float))\n",
    "\n",
    "        # Forward method to define the computaion in the model\n",
    "    def forward(self, x: torch.Tensor) -> torch.Tensor: # <- \"x\" is the input data\n",
    "        return self.weights * x + self.bias # this is the linear regression formula"
   ]
  },
  {
   "cell_type": "markdown",
   "metadata": {},
   "source": [
    "### PyTorch model building essentials\n",
    "\n",
    "* torch.nn - contains all of the buildings for computational graphs (a neural network can be considered a computational graph)\n",
    "* torch.nn.Parameter - what parameters should our model try and learn, often a PyTroch layer from torch.nn will set this for us\n",
    "* torch.nn.Module - the base class for all neural network modules, if you subclass it, you should overwrite forward()\n",
    "* torch.optim - this were the optimizers in PyTorch live, they will help with gradient descent\n",
    "* def forward() - all nn.Module subclasses require you to overwrite forward(), this method defines what happens in the forward computation"
   ]
  },
  {
   "cell_type": "markdown",
   "metadata": {},
   "source": [
    "### Checking the contents of our PyTorch model\n",
    "\n",
    "Now we 've created a model, let's see what's inside...\n",
    "\n",
    "So we can check our model paramters or what's inside our model using `.parameters()`"
   ]
  },
  {
   "cell_type": "code",
   "execution_count": 138,
   "metadata": {},
   "outputs": [],
   "source": [
    "# create a random seed\n",
    "torch.manual_seed(123)\n",
    "\n",
    "# create an instance of the model (this is a subclass of nn.Module)\n",
    "model_0 = linearRegressionModel()"
   ]
  },
  {
   "cell_type": "code",
   "execution_count": 139,
   "metadata": {},
   "outputs": [
    {
     "data": {
      "text/plain": [
       "linearRegressionModel()"
      ]
     },
     "execution_count": 139,
     "metadata": {},
     "output_type": "execute_result"
    }
   ],
   "source": [
    "model_0"
   ]
  },
  {
   "cell_type": "code",
   "execution_count": 140,
   "metadata": {},
   "outputs": [
    {
     "data": {
      "text/plain": [
       "<generator object Module.parameters at 0x7f34ed5ccc10>"
      ]
     },
     "execution_count": 140,
     "metadata": {},
     "output_type": "execute_result"
    }
   ],
   "source": [
    "# check our the parameters\n",
    "model_0.parameters()"
   ]
  },
  {
   "cell_type": "code",
   "execution_count": 141,
   "metadata": {},
   "outputs": [
    {
     "data": {
      "text/plain": [
       "[Parameter containing:\n",
       " tensor([-0.1115], requires_grad=True),\n",
       " Parameter containing:\n",
       " tensor([0.1204], requires_grad=True)]"
      ]
     },
     "execution_count": 141,
     "metadata": {},
     "output_type": "execute_result"
    }
   ],
   "source": [
    "list(model_0.parameters())"
   ]
  },
  {
   "cell_type": "code",
   "execution_count": 142,
   "metadata": {},
   "outputs": [
    {
     "data": {
      "text/plain": [
       "OrderedDict([('weights', tensor([-0.1115])), ('bias', tensor([0.1204]))])"
      ]
     },
     "execution_count": 142,
     "metadata": {},
     "output_type": "execute_result"
    }
   ],
   "source": [
    "# list named parameters\n",
    "model_0.state_dict()"
   ]
  },
  {
   "cell_type": "markdown",
   "metadata": {},
   "source": [
    "### Making prediction using `torch.inference_mode()`\n",
    "\n",
    "To check our model's prediction power, let's see how well it predicts `y_test` based on `x_test`\n",
    "\n",
    "when we pass data through our model, it's going to run it through the `forward()` method."
   ]
  },
  {
   "cell_type": "code",
   "execution_count": 143,
   "metadata": {},
   "outputs": [
    {
     "data": {
      "text/plain": [
       "tensor([[0.0312],\n",
       "        [0.0290],\n",
       "        [0.0267],\n",
       "        [0.0245],\n",
       "        [0.0223],\n",
       "        [0.0200],\n",
       "        [0.0178],\n",
       "        [0.0156],\n",
       "        [0.0134],\n",
       "        [0.0111]])"
      ]
     },
     "execution_count": 143,
     "metadata": {},
     "output_type": "execute_result"
    }
   ],
   "source": [
    "# Make predictions with model\n",
    "with torch.inference_mode():\n",
    "    y_preds = model_0(x_test)\n",
    "    \n",
    "y_preds"
   ]
  },
  {
   "cell_type": "code",
   "execution_count": 144,
   "metadata": {},
   "outputs": [
    {
     "data": {
      "text/plain": [
       "tensor([[0.8600],\n",
       "        [0.8740],\n",
       "        [0.8880],\n",
       "        [0.9020],\n",
       "        [0.9160],\n",
       "        [0.9300],\n",
       "        [0.9440],\n",
       "        [0.9580],\n",
       "        [0.9720],\n",
       "        [0.9860]])"
      ]
     },
     "execution_count": 144,
     "metadata": {},
     "output_type": "execute_result"
    }
   ],
   "source": [
    "y_test"
   ]
  },
  {
   "cell_type": "code",
   "execution_count": 145,
   "metadata": {},
   "outputs": [
    {
     "data": {
      "image/png": "[encoded data removed]",
      "text/plain": [
       "<Figure size 1000x700 with 1 Axes>"
      ]
     },
     "metadata": {},
     "output_type": "display_data"
    }
   ],
   "source": [
    "plot_predictions(predictions=y_preds)"
   ]
  },
  {
   "cell_type": "code",
   "execution_count": 146,
   "metadata": {},
   "outputs": [],
   "source": [
    "# we can also do someting similar with toch.no_grad(), however, torch.inference_mode() is preferred\n",
    "# with torch.no_grad():\n",
    "#    y_preds = model_0(x_test)\n"
   ]
  },
  {
   "cell_type": "markdown",
   "metadata": {},
   "source": [
    "## 3. Train model\n",
    "\n",
    "the whole idea of training is for a model to move from some *unknown* parameters (these may be random) to some *known* parameters.\n",
    "Or in other words from a poor representation of the data to a better representation of the data.\n",
    "\n",
    "one way to measure how poor or how wrong is your model predictions are is to use a loss function.\n",
    "\n",
    "* Note : Loss function may also be called cost function or criterion in different areas. For our case, we 're going to refer to it as loss function.\n",
    "\n",
    "Thing we need to train:\n",
    "\n",
    "* **Loss function:** A function to measure how wrong is you model's predictions are to the ideal outputs, lower is better.\n",
    "* **Optimizer:** Takes it to account the loss of a model and adjusts the model's parameters (e.g. weight & bias in our case) to imporve the loss function.\n",
    "\n",
    "    - inside the optimizer you 'll often have to set two parameters:\n",
    "        - `params` - the model parameters you 'd like to optimize, for example `params=modle_0.parameters()`\n",
    "        - `lr` (learning rate) - the learning rate is a hyperparamter that define how big/small the optimizer changes the parameters\n",
    "        with each step (a small `lr` results in small changes, a large `lr` results in large changes)\n",
    "\n",
    "And specifically for PyTorch, we need:\n",
    "* A traning loop \n",
    "* A testing loop "
   ]
  },
  {
   "cell_type": "code",
   "execution_count": 147,
   "metadata": {},
   "outputs": [
    {
     "data": {
      "text/plain": [
       "OrderedDict([('weights', tensor([-0.1115])), ('bias', tensor([0.1204]))])"
      ]
     },
     "execution_count": 147,
     "metadata": {},
     "output_type": "execute_result"
    }
   ],
   "source": [
    "# check out our model parameters (a parameter is a value that the model sets itself)\n",
    "model_0.state_dict()"
   ]
  },
  {
   "cell_type": "code",
   "execution_count": 148,
   "metadata": {},
   "outputs": [],
   "source": [
    "# Setup a loss function\n",
    "loss_fn = nn.L1Loss()\n",
    "\n",
    "# Setup a optimizer (stochastic gradient descent)\n",
    "optimizer = torch.optim.SGD(params=model_0.parameters(), lr=0.01) # lr = learning rate : possibly the most important hyperparameter you can set"
   ]
  },
  {
   "cell_type": "markdown",
   "metadata": {},
   "source": [
    "**Q:** Which loss function and optimizer should i use?\n",
    "\n",
    "**A:** This will be problem specific. But with experince, you 'll get an idea of what works and what doesn't with your particular prblem set.\n",
    "\n",
    "For example, for a regression problem (like ours), a loss function of `nn.L1Loss()` and an optimizer like `torch.optim.SGD()` will suffice.\n",
    "\n",
    "But for a classification problem like classfying whether a photo is of a dog or a cat, you 'll likely want tu use a loss function of `nn.BCELoss()` (binary cross entropy loss)."
   ]
  },
  {
   "cell_type": "markdown",
   "metadata": {},
   "source": [
    "### Building a training loop (and a testing loop)\n",
    "\n",
    "A couple of thing we need in a training loop:\n",
    "0. Loop through the data and do...\n",
    "1. Forward pass (this involves data moving through our model's `forward()` function) to make predictions on data - also called forward propagation\n",
    "2. Caculate the loss (compare forward pass predictions to ground truth labels)\n",
    "3. Optimizer zero grad\n",
    "4. Loss backward - move backwards through the netwrok to calculate the gradients of each of the parameters of our model with respect to the loss (**backpropagation**)\n",
    "5. Optimizer step - use the optimizer to adjust our model's parameters to try and improve the loss (**gradient descent**)"
   ]
  },
  {
   "cell_type": "code",
   "execution_count": 149,
   "metadata": {},
   "outputs": [
    {
     "data": {
      "text/plain": [
       "OrderedDict([('weights', tensor([-0.1115])), ('bias', tensor([0.1204]))])"
      ]
     },
     "execution_count": 149,
     "metadata": {},
     "output_type": "execute_result"
    }
   ],
   "source": [
    "model_0.state_dict()"
   ]
  },
  {
   "cell_type": "code",
   "execution_count": 24,
   "metadata": {},
   "outputs": [
    {
     "name": "stdout",
     "output_type": "stream",
     "text": [
      "Loss: 0.4961091876029968\n",
      "OrderedDict([('weights', tensor([-0.1076])), ('bias', tensor([0.1304]))])\n"
     ]
    }
   ],
   "source": [
    "torch.manual_seed(123)\n",
    "\n",
    "# An epoch is one loop through the data...(this is a hyperparameters because we 've set it ourselves)\n",
    "epochs = 1\n",
    "\n",
    "### Training\n",
    "# 0. Loop through the data\n",
    "for epoch in range(epochs):\n",
    "    # Set the model to train mode\n",
    "    model_0.train() # train mode in PyTorch sets all parameters that require gradients to require gradients\n",
    "    \n",
    "    # 1. Forward pass\n",
    "    y_pred = model_0(x_train)\n",
    "\n",
    "    # 2. Calculate the loss\n",
    "    loss = loss_fn(y_pred, y_train)\n",
    "    print(f'Loss: {loss}')\n",
    "\n",
    "    # 3. Optimizer zero grad\n",
    "    optimizer.zero_grad()\n",
    "    \n",
    "    # 4. Perform backpropagation on the loss with respect to the parameters of the model\n",
    "    loss.backward()\n",
    "\n",
    "    # 5. Step the optimizer (perform gradient descent)\n",
    "    optimizer.step() # by default how the optimizer changes will acculumate through the loop so... we have to zero them above in step 3 for the next iteration of the loop\n",
    "\n",
    "    ### Testing\n",
    "    model_0.eval() # turns off gradient tracking \n",
    "\n",
    "    # print out model state_dict()\n",
    "    print(model_0.state_dict())"
   ]
  },
  {
   "cell_type": "code",
   "execution_count": 45,
   "metadata": {},
   "outputs": [],
   "source": [
    "with torch.inference_mode():\n",
    "    y_preds_new = model_0(x_test)"
   ]
  },
  {
   "cell_type": "code",
   "execution_count": 46,
   "metadata": {},
   "outputs": [
    {
     "data": {
      "image/png": "[encoded data removed]",
      "text/plain": [
       "<Figure size 1000x700 with 1 Axes>"
      ]
     },
     "metadata": {},
     "output_type": "display_data"
    }
   ],
   "source": [
    "plot_predictions(predictions=y_preds_new)"
   ]
  },
  {
   "cell_type": "code",
   "execution_count": 47,
   "metadata": {},
   "outputs": [
    {
     "name": "stdout",
     "output_type": "stream",
     "text": [
      "Loss: 0.4961091876029968\n",
      "OrderedDict([('weights', tensor([-0.1076])), ('bias', tensor([0.1304]))])\n",
      "Loss: 0.4845882058143616\n",
      "OrderedDict([('weights', tensor([-0.1037])), ('bias', tensor([0.1404]))])\n",
      "Loss: 0.4730672240257263\n",
      "OrderedDict([('weights', tensor([-0.0998])), ('bias', tensor([0.1504]))])\n",
      "Loss: 0.46154624223709106\n",
      "OrderedDict([('weights', tensor([-0.0959])), ('bias', tensor([0.1604]))])\n",
      "Loss: 0.4500252306461334\n",
      "OrderedDict([('weights', tensor([-0.0920])), ('bias', tensor([0.1704]))])\n",
      "Loss: 0.4385042190551758\n",
      "OrderedDict([('weights', tensor([-0.0881])), ('bias', tensor([0.1804]))])\n",
      "Loss: 0.42698320746421814\n",
      "OrderedDict([('weights', tensor([-0.0842])), ('bias', tensor([0.1904]))])\n",
      "Loss: 0.4154621958732605\n",
      "OrderedDict([('weights', tensor([-0.0803])), ('bias', tensor([0.2004]))])\n",
      "Loss: 0.40394121408462524\n",
      "OrderedDict([('weights', tensor([-0.0764])), ('bias', tensor([0.2104]))])\n",
      "Loss: 0.3924202024936676\n",
      "OrderedDict([('weights', tensor([-0.0725])), ('bias', tensor([0.2204]))])\n",
      "Loss: 0.3808991611003876\n",
      "OrderedDict([('weights', tensor([-0.0686])), ('bias', tensor([0.2304]))])\n",
      "Loss: 0.3693782091140747\n",
      "OrderedDict([('weights', tensor([-0.0647])), ('bias', tensor([0.2404]))])\n",
      "Loss: 0.3578571677207947\n",
      "OrderedDict([('weights', tensor([-0.0608])), ('bias', tensor([0.2504]))])\n",
      "Loss: 0.3463361859321594\n",
      "OrderedDict([('weights', tensor([-0.0569])), ('bias', tensor([0.2604]))])\n",
      "Loss: 0.3348151743412018\n",
      "OrderedDict([('weights', tensor([-0.0530])), ('bias', tensor([0.2704]))])\n",
      "Loss: 0.3232942223548889\n",
      "OrderedDict([('weights', tensor([-0.0491])), ('bias', tensor([0.2804]))])\n",
      "Loss: 0.3117732107639313\n",
      "OrderedDict([('weights', tensor([-0.0452])), ('bias', tensor([0.2904]))])\n",
      "Loss: 0.3002522587776184\n",
      "OrderedDict([('weights', tensor([-0.0413])), ('bias', tensor([0.3004]))])\n",
      "Loss: 0.2887493968009949\n",
      "OrderedDict([('weights', tensor([-0.0374])), ('bias', tensor([0.3099]))])\n",
      "Loss: 0.27820339798927307\n",
      "OrderedDict([('weights', tensor([-0.0335])), ('bias', tensor([0.3194]))])\n",
      "Loss: 0.267892062664032\n",
      "OrderedDict([('weights', tensor([-0.0296])), ('bias', tensor([0.3284]))])\n",
      "Loss: 0.25827884674072266\n",
      "OrderedDict([('weights', tensor([-0.0257])), ('bias', tensor([0.3374]))])\n",
      "Loss: 0.24908241629600525\n",
      "OrderedDict([('weights', tensor([-0.0218])), ('bias', tensor([0.3459]))])\n",
      "Loss: 0.24048738181591034\n",
      "OrderedDict([('weights', tensor([-0.0180])), ('bias', tensor([0.3539]))])\n",
      "Loss: 0.23261287808418274\n",
      "OrderedDict([('weights', tensor([-0.0141])), ('bias', tensor([0.3619]))])\n",
      "Loss: 0.22497491538524628\n",
      "OrderedDict([('weights', tensor([-0.0103])), ('bias', tensor([0.3694]))])\n",
      "Loss: 0.2179059237241745\n",
      "OrderedDict([('weights', tensor([-0.0065])), ('bias', tensor([0.3769]))])\n",
      "Loss: 0.21114739775657654\n",
      "OrderedDict([('weights', tensor([-0.0028])), ('bias', tensor([0.3839]))])\n",
      "Loss: 0.20484113693237305\n",
      "OrderedDict([('weights', tensor([0.0010])), ('bias', tensor([0.3909]))])\n",
      "Loss: 0.1988838165998459\n",
      "OrderedDict([('weights', tensor([0.0047])), ('bias', tensor([0.3974]))])\n",
      "Loss: 0.19329790771007538\n",
      "OrderedDict([('weights', tensor([0.0083])), ('bias', tensor([0.4034]))])\n",
      "Loss: 0.18838746845722198\n",
      "OrderedDict([('weights', tensor([0.0119])), ('bias', tensor([0.4094]))])\n",
      "Loss: 0.1834770143032074\n",
      "OrderedDict([('weights', tensor([0.0155])), ('bias', tensor([0.4154]))])\n",
      "Loss: 0.17885883152484894\n",
      "OrderedDict([('weights', tensor([0.0191])), ('bias', tensor([0.4209]))])\n",
      "Loss: 0.1745806634426117\n",
      "OrderedDict([('weights', tensor([0.0226])), ('bias', tensor([0.4264]))])\n",
      "Loss: 0.1705239862203598\n",
      "OrderedDict([('weights', tensor([0.0260])), ('bias', tensor([0.4314]))])\n",
      "Loss: 0.16683372855186462\n",
      "OrderedDict([('weights', tensor([0.0295])), ('bias', tensor([0.4364]))])\n",
      "Loss: 0.16325655579566956\n",
      "OrderedDict([('weights', tensor([0.0328])), ('bias', tensor([0.4409]))])\n",
      "Loss: 0.16010931134223938\n",
      "OrderedDict([('weights', tensor([0.0362])), ('bias', tensor([0.4454]))])\n",
      "Loss: 0.1569620668888092\n",
      "OrderedDict([('weights', tensor([0.0395])), ('bias', tensor([0.4499]))])\n",
      "Loss: 0.15404292941093445\n",
      "OrderedDict([('weights', tensor([0.0428])), ('bias', tensor([0.4539]))])\n",
      "Loss: 0.15139317512512207\n",
      "OrderedDict([('weights', tensor([0.0460])), ('bias', tensor([0.4579]))])\n",
      "Loss: 0.14878883957862854\n",
      "OrderedDict([('weights', tensor([0.0491])), ('bias', tensor([0.4614]))])\n",
      "Loss: 0.14659038186073303\n",
      "OrderedDict([('weights', tensor([0.0523])), ('bias', tensor([0.4649]))])\n",
      "Loss: 0.14439193904399872\n",
      "OrderedDict([('weights', tensor([0.0554])), ('bias', tensor([0.4684]))])\n",
      "Loss: 0.14223162829875946\n",
      "OrderedDict([('weights', tensor([0.0584])), ('bias', tensor([0.4714]))])\n",
      "Loss: 0.14043761789798737\n",
      "OrderedDict([('weights', tensor([0.0614])), ('bias', tensor([0.4744]))])\n",
      "Loss: 0.13864359259605408\n",
      "OrderedDict([('weights', tensor([0.0644])), ('bias', tensor([0.4774]))])\n",
      "Loss: 0.13684961199760437\n",
      "OrderedDict([('weights', tensor([0.0673])), ('bias', tensor([0.4804]))])\n",
      "Loss: 0.13521653413772583\n",
      "OrderedDict([('weights', tensor([0.0702])), ('bias', tensor([0.4829]))])\n",
      "Loss: 0.13377928733825684\n",
      "OrderedDict([('weights', tensor([0.0730])), ('bias', tensor([0.4854]))])\n",
      "Loss: 0.13234204053878784\n",
      "OrderedDict([('weights', tensor([0.0759])), ('bias', tensor([0.4879]))])\n",
      "Loss: 0.13093633949756622\n",
      "OrderedDict([('weights', tensor([0.0786])), ('bias', tensor([0.4899]))])\n",
      "Loss: 0.12980732321739197\n",
      "OrderedDict([('weights', tensor([0.0813])), ('bias', tensor([0.4919]))])\n",
      "Loss: 0.1286783367395401\n",
      "OrderedDict([('weights', tensor([0.0840])), ('bias', tensor([0.4939]))])\n",
      "Loss: 0.12754933536052704\n",
      "OrderedDict([('weights', tensor([0.0867])), ('bias', tensor([0.4959]))])\n",
      "Loss: 0.12642031908035278\n",
      "OrderedDict([('weights', tensor([0.0894])), ('bias', tensor([0.4979]))])\n",
      "Loss: 0.12541475892066956\n",
      "OrderedDict([('weights', tensor([0.0919])), ('bias', tensor([0.4994]))])\n",
      "Loss: 0.12454458326101303\n",
      "OrderedDict([('weights', tensor([0.0945])), ('bias', tensor([0.5009]))])\n",
      "Loss: 0.1236744374036789\n",
      "OrderedDict([('weights', tensor([0.0970])), ('bias', tensor([0.5024]))])\n",
      "Loss: 0.12280428409576416\n",
      "OrderedDict([('weights', tensor([0.0996])), ('bias', tensor([0.5039]))])\n",
      "Loss: 0.12193411588668823\n",
      "OrderedDict([('weights', tensor([0.1021])), ('bias', tensor([0.5054]))])\n",
      "Loss: 0.12116768211126328\n",
      "OrderedDict([('weights', tensor([0.1045])), ('bias', tensor([0.5064]))])\n",
      "Loss: 0.12050600349903107\n",
      "OrderedDict([('weights', tensor([0.1068])), ('bias', tensor([0.5074]))])\n",
      "Loss: 0.11984431743621826\n",
      "OrderedDict([('weights', tensor([0.1092])), ('bias', tensor([0.5084]))])\n",
      "Loss: 0.11918262392282486\n",
      "OrderedDict([('weights', tensor([0.1116])), ('bias', tensor([0.5094]))])\n",
      "Loss: 0.11852093786001205\n",
      "OrderedDict([('weights', tensor([0.1139])), ('bias', tensor([0.5104]))])\n",
      "Loss: 0.11785922944545746\n",
      "OrderedDict([('weights', tensor([0.1163])), ('bias', tensor([0.5114]))])\n",
      "Loss: 0.11725932359695435\n",
      "OrderedDict([('weights', tensor([0.1185])), ('bias', tensor([0.5119]))])\n",
      "Loss: 0.11675473302602768\n",
      "OrderedDict([('weights', tensor([0.1207])), ('bias', tensor([0.5124]))])\n",
      "Loss: 0.11625011265277863\n",
      "OrderedDict([('weights', tensor([0.1229])), ('bias', tensor([0.5129]))])\n",
      "Loss: 0.11574548482894897\n",
      "OrderedDict([('weights', tensor([0.1251])), ('bias', tensor([0.5134]))])\n",
      "Loss: 0.11524089425802231\n",
      "OrderedDict([('weights', tensor([0.1273])), ('bias', tensor([0.5139]))])\n",
      "Loss: 0.11473627388477325\n",
      "OrderedDict([('weights', tensor([0.1295])), ('bias', tensor([0.5144]))])\n",
      "Loss: 0.1142316684126854\n",
      "OrderedDict([('weights', tensor([0.1316])), ('bias', tensor([0.5149]))])\n",
      "Loss: 0.11372704803943634\n",
      "OrderedDict([('weights', tensor([0.1338])), ('bias', tensor([0.5154]))])\n",
      "Loss: 0.11323342472314835\n",
      "OrderedDict([('weights', tensor([0.1358])), ('bias', tensor([0.5154]))])\n",
      "Loss: 0.1128334254026413\n",
      "OrderedDict([('weights', tensor([0.1378])), ('bias', tensor([0.5154]))])\n",
      "Loss: 0.11243343353271484\n",
      "OrderedDict([('weights', tensor([0.1398])), ('bias', tensor([0.5154]))])\n",
      "Loss: 0.1120334267616272\n",
      "OrderedDict([('weights', tensor([0.1418])), ('bias', tensor([0.5154]))])\n",
      "Loss: 0.11163343489170074\n",
      "OrderedDict([('weights', tensor([0.1438])), ('bias', tensor([0.5154]))])\n",
      "Loss: 0.1112334132194519\n",
      "OrderedDict([('weights', tensor([0.1458])), ('bias', tensor([0.5154]))])\n",
      "Loss: 0.11083342134952545\n",
      "OrderedDict([('weights', tensor([0.1478])), ('bias', tensor([0.5154]))])\n",
      "Loss: 0.1104334145784378\n",
      "OrderedDict([('weights', tensor([0.1498])), ('bias', tensor([0.5154]))])\n",
      "Loss: 0.11003341525793076\n",
      "OrderedDict([('weights', tensor([0.1518])), ('bias', tensor([0.5154]))])\n",
      "Loss: 0.1096334233880043\n",
      "OrderedDict([('weights', tensor([0.1538])), ('bias', tensor([0.5154]))])\n",
      "Loss: 0.10923341661691666\n",
      "OrderedDict([('weights', tensor([0.1558])), ('bias', tensor([0.5154]))])\n",
      "Loss: 0.1088334172964096\n",
      "OrderedDict([('weights', tensor([0.1578])), ('bias', tensor([0.5154]))])\n",
      "Loss: 0.10843341052532196\n",
      "OrderedDict([('weights', tensor([0.1598])), ('bias', tensor([0.5154]))])\n",
      "Loss: 0.10803340375423431\n",
      "OrderedDict([('weights', tensor([0.1618])), ('bias', tensor([0.5154]))])\n",
      "Loss: 0.10763821750879288\n",
      "OrderedDict([('weights', tensor([0.1636])), ('bias', tensor([0.5149]))])\n",
      "Loss: 0.10728921741247177\n",
      "OrderedDict([('weights', tensor([0.1654])), ('bias', tensor([0.5144]))])\n",
      "Loss: 0.10694022476673126\n",
      "OrderedDict([('weights', tensor([0.1672])), ('bias', tensor([0.5139]))])\n",
      "Loss: 0.10659122467041016\n",
      "OrderedDict([('weights', tensor([0.1690])), ('bias', tensor([0.5134]))])\n",
      "Loss: 0.10624222457408905\n",
      "OrderedDict([('weights', tensor([0.1708])), ('bias', tensor([0.5129]))])\n",
      "Loss: 0.10589320957660675\n",
      "OrderedDict([('weights', tensor([0.1726])), ('bias', tensor([0.5124]))])\n",
      "Loss: 0.10554422438144684\n",
      "OrderedDict([('weights', tensor([0.1744])), ('bias', tensor([0.5119]))])\n",
      "Loss: 0.10519523918628693\n",
      "OrderedDict([('weights', tensor([0.1762])), ('bias', tensor([0.5114]))])\n",
      "Loss: 0.10484622418880463\n",
      "OrderedDict([('weights', tensor([0.1780])), ('bias', tensor([0.5109]))])\n",
      "Loss: 0.10449720919132233\n",
      "OrderedDict([('weights', tensor([0.1798])), ('bias', tensor([0.5104]))])\n"
     ]
    }
   ],
   "source": [
    "torch.manual_seed(123)\n",
    "\n",
    "# An epoch is one loop through the data...(this is a hyperparameters because we 've set it ourselves)\n",
    "epochs = 100\n",
    "\n",
    "### Training\n",
    "# 0. Loop through the data\n",
    "for epoch in range(epochs):\n",
    "    # Set the model to train mode\n",
    "    model_0.train() # train mode in PyTorch sets all parameters that require gradients to require gradients\n",
    "    \n",
    "    # 1. Forward pass\n",
    "    y_pred = model_0(x_train)\n",
    "\n",
    "    # 2. Calculate the loss\n",
    "    loss = loss_fn(y_pred, y_train)\n",
    "    print(f'Loss: {loss}')\n",
    "\n",
    "    # 3. Optimizer zero grad\n",
    "    optimizer.zero_grad()\n",
    "    \n",
    "    # 4. Perform backpropagation on the loss with respect to the parameters of the model\n",
    "    loss.backward()\n",
    "\n",
    "    # 5. Step the optimizer (perform gradient descent)\n",
    "    optimizer.step() # by default how the optimizer changes will acculumate through the loop so... we have to zero them above in step 3 for the next iteration of the loop\n",
    "\n",
    "    # print out model state_dict()\n",
    "    print(model_0.state_dict())"
   ]
  },
  {
   "cell_type": "code",
   "execution_count": 48,
   "metadata": {},
   "outputs": [],
   "source": [
    "with torch.inference_mode():\n",
    "    y_preds_new = model_0(x_test)"
   ]
  },
  {
   "cell_type": "code",
   "execution_count": 49,
   "metadata": {},
   "outputs": [
    {
     "data": {
      "image/png": "[encoded data removed]",
      "text/plain": [
       "<Figure size 1000x700 with 1 Axes>"
      ]
     },
     "metadata": {},
     "output_type": "display_data"
    }
   ],
   "source": [
    "plot_predictions(predictions=y_preds_new)"
   ]
  },
  {
   "cell_type": "code",
   "execution_count": 61,
   "metadata": {},
   "outputs": [
    {
     "name": "stdout",
     "output_type": "stream",
     "text": [
      "Epoch: 0 | Loss: 0.03529027849435806 | Test loss: 0.0819123387336731\n",
      "OrderedDict([('weights', tensor([0.5261])), ('bias', tensor([0.3729]))])\n",
      "Epoch: 10 | Loss: 0.0318564809858799 | Test loss: 0.07363979518413544\n",
      "OrderedDict([('weights', tensor([0.5433])), ('bias', tensor([0.3659]))])\n",
      "Epoch: 20 | Loss: 0.0284176804125309 | Test loss: 0.06536726653575897\n",
      "OrderedDict([('weights', tensor([0.5604])), ('bias', tensor([0.3589]))])\n",
      "Epoch: 30 | Loss: 0.024988343939185143 | Test loss: 0.05778159946203232\n",
      "OrderedDict([('weights', tensor([0.5774])), ('bias', tensor([0.3514]))])\n",
      "Epoch: 40 | Loss: 0.021552862599492073 | Test loss: 0.04950905591249466\n",
      "OrderedDict([('weights', tensor([0.5945])), ('bias', tensor([0.3444]))])\n",
      "Epoch: 50 | Loss: 0.018114853650331497 | Test loss: 0.04192338511347771\n",
      "OrderedDict([('weights', tensor([0.6115])), ('bias', tensor([0.3369]))])\n",
      "Epoch: 60 | Loss: 0.014686408452689648 | Test loss: 0.03365085646510124\n",
      "OrderedDict([('weights', tensor([0.6286])), ('bias', tensor([0.3299]))])\n",
      "Epoch: 70 | Loss: 0.011249246075749397 | Test loss: 0.025378327816724777\n",
      "OrderedDict([('weights', tensor([0.6458])), ('bias', tensor([0.3229]))])\n",
      "Epoch: 80 | Loss: 0.007812916301190853 | Test loss: 0.01779264770448208\n",
      "OrderedDict([('weights', tensor([0.6627])), ('bias', tensor([0.3154]))])\n",
      "Epoch: 90 | Loss: 0.004384426865726709 | Test loss: 0.009520107880234718\n",
      "OrderedDict([('weights', tensor([0.6799])), ('bias', tensor([0.3084]))])\n"
     ]
    }
   ],
   "source": [
    "from cgi import test\n",
    "\n",
    "\n",
    "torch.manual_seed(123)\n",
    "\n",
    "# An epoch is one loop through the data...(this is a hyperparameters because we 've set it ourselves)\n",
    "epochs = 100\n",
    "\n",
    "### Training\n",
    "# 0. Loop through the data\n",
    "for epoch in range(epochs):\n",
    "    # Set the model to train mode\n",
    "    model_0.train() # train mode in PyTorch sets all parameters that require gradients to require gradients\n",
    "    \n",
    "    # 1. Forward pass\n",
    "    y_pred = model_0(x_train)\n",
    "\n",
    "    # 2. Calculate the loss\n",
    "    loss = loss_fn(y_pred, y_train)\n",
    "\n",
    "    # 3. Optimizer zero grad\n",
    "    optimizer.zero_grad()\n",
    "    \n",
    "    # 4. Perform backpropagation on the loss with respect to the parameters of the model\n",
    "    loss.backward()\n",
    "\n",
    "    # 5. Step the optimizer (perform gradient descent)\n",
    "    optimizer.step() # by default how the optimizer changes will acculumate through the loop so... we have to zero them above in step 3 for the next iteration of the loop\n",
    "\n",
    "    ### Testin\n",
    "    model_0.eval() # turns off different settings in the model not needed for evaluation/testing (dropout/batch norm layers)\n",
    "    with torch.inference_mode(): # turns off gradient tracking & a couple more things behind the scenes\n",
    "    # with torch.no_grad(): # you may also see torch.no_grad() in order PyTorch code\n",
    "        # 1. Do the forward pass\n",
    "        test_pred = model_0(x_test)\n",
    "\n",
    "        # 2. Calculate the loss\n",
    "        test_loss = loss_fn(test_pred, y_test)\n",
    "    # print out what's happenin'\n",
    "    if epoch % 10 == 0:\n",
    "        print(f'Epoch: {epoch} | Loss: {loss} | Test loss: {test_loss}')\n",
    "        # print out model state_dict()\n",
    "        print(model_0.state_dict())"
   ]
  },
  {
   "cell_type": "code",
   "execution_count": 62,
   "metadata": {},
   "outputs": [
    {
     "data": {
      "text/plain": [
       "OrderedDict([('weights', tensor([0.6964])), ('bias', tensor([0.3064]))])"
      ]
     },
     "execution_count": 62,
     "metadata": {},
     "output_type": "execute_result"
    }
   ],
   "source": [
    "model_0.state_dict()"
   ]
  },
  {
   "cell_type": "code",
   "execution_count": 63,
   "metadata": {},
   "outputs": [
    {
     "data": {
      "text/plain": [
       "(0.7, 0.3)"
      ]
     },
     "execution_count": 63,
     "metadata": {},
     "output_type": "execute_result"
    }
   ],
   "source": [
    "weight, bias"
   ]
  },
  {
   "cell_type": "code",
   "execution_count": 64,
   "metadata": {},
   "outputs": [],
   "source": [
    "with torch.inference_mode():\n",
    "    y_preds_new = model_0(x_test)"
   ]
  },
  {
   "cell_type": "code",
   "execution_count": 65,
   "metadata": {},
   "outputs": [
    {
     "data": {
      "image/png": "[encoded data removed]",
      "text/plain": [
       "<Figure size 1000x700 with 1 Axes>"
      ]
     },
     "metadata": {},
     "output_type": "display_data"
    }
   ],
   "source": [
    "plot_predictions(predictions=y_preds_new)"
   ]
  },
  {
   "cell_type": "code",
   "execution_count": 150,
   "metadata": {},
   "outputs": [
    {
     "name": "stdout",
     "output_type": "stream",
     "text": [
      "Epoch: 0 | Loss: 0.4961091876029968 | Test loss: 0.8883718252182007\n",
      "OrderedDict([('weights', tensor([-0.1076])), ('bias', tensor([0.1304]))])\n",
      "Epoch: 10 | Loss: 0.3808991611003876 | Test loss: 0.7536616921424866\n",
      "OrderedDict([('weights', tensor([-0.0686])), ('bias', tensor([0.2304]))])\n",
      "Epoch: 20 | Loss: 0.267892062664032 | Test loss: 0.6209607124328613\n",
      "OrderedDict([('weights', tensor([-0.0296])), ('bias', tensor([0.3284]))])\n",
      "Epoch: 30 | Loss: 0.19329790771007538 | Test loss: 0.5122742652893066\n",
      "OrderedDict([('weights', tensor([0.0083])), ('bias', tensor([0.4034]))])\n",
      "Epoch: 40 | Loss: 0.15404292941093445 | Test loss: 0.4310603141784668\n",
      "OrderedDict([('weights', tensor([0.0428])), ('bias', tensor([0.4539]))])\n",
      "Epoch: 50 | Loss: 0.13377928733825684 | Test loss: 0.3726288676261902\n",
      "OrderedDict([('weights', tensor([0.0730])), ('bias', tensor([0.4854]))])\n",
      "Epoch: 60 | Loss: 0.12280428409576416 | Test loss: 0.3305349349975586\n",
      "OrderedDict([('weights', tensor([0.0996])), ('bias', tensor([0.5039]))])\n",
      "Epoch: 70 | Loss: 0.11625011265277863 | Test loss: 0.30077123641967773\n",
      "OrderedDict([('weights', tensor([0.1229])), ('bias', tensor([0.5129]))])\n",
      "Epoch: 80 | Loss: 0.11163343489170074 | Test loss: 0.27962565422058105\n",
      "OrderedDict([('weights', tensor([0.1438])), ('bias', tensor([0.5154]))])\n",
      "Epoch: 90 | Loss: 0.10763821750879288 | Test loss: 0.26250362396240234\n",
      "OrderedDict([('weights', tensor([0.1636])), ('bias', tensor([0.5149]))])\n",
      "Epoch: 100 | Loss: 0.10414820909500122 | Test loss: 0.25148385763168335\n",
      "OrderedDict([('weights', tensor([0.1816])), ('bias', tensor([0.5099]))])\n",
      "Epoch: 110 | Loss: 0.10065820068120956 | Test loss: 0.24046409130096436\n",
      "OrderedDict([('weights', tensor([0.1996])), ('bias', tensor([0.5049]))])\n",
      "Epoch: 120 | Loss: 0.09716819226741791 | Test loss: 0.22944429516792297\n",
      "OrderedDict([('weights', tensor([0.2176])), ('bias', tensor([0.4999]))])\n",
      "Epoch: 130 | Loss: 0.09367819130420685 | Test loss: 0.2184242308139801\n",
      "OrderedDict([('weights', tensor([0.2356])), ('bias', tensor([0.4949]))])\n",
      "Epoch: 140 | Loss: 0.09023939073085785 | Test loss: 0.21015171706676483\n",
      "OrderedDict([('weights', tensor([0.2528])), ('bias', tensor([0.4879]))])\n",
      "Epoch: 150 | Loss: 0.08680059015750885 | Test loss: 0.20187917351722717\n",
      "OrderedDict([('weights', tensor([0.2700])), ('bias', tensor([0.4809]))])\n",
      "Epoch: 160 | Loss: 0.08337149769067764 | Test loss: 0.19429349899291992\n",
      "OrderedDict([('weights', tensor([0.2869])), ('bias', tensor([0.4734]))])\n",
      "Epoch: 170 | Loss: 0.07993577420711517 | Test loss: 0.18602098524570465\n",
      "OrderedDict([('weights', tensor([0.3041])), ('bias', tensor([0.4664]))])\n",
      "Epoch: 180 | Loss: 0.07649800181388855 | Test loss: 0.1784353256225586\n",
      "OrderedDict([('weights', tensor([0.3210])), ('bias', tensor([0.4589]))])\n",
      "Epoch: 190 | Loss: 0.07306955754756927 | Test loss: 0.17016276717185974\n",
      "OrderedDict([('weights', tensor([0.3382])), ('bias', tensor([0.4519]))])\n",
      "Epoch: 200 | Loss: 0.0696321576833725 | Test loss: 0.16189023852348328\n",
      "OrderedDict([('weights', tensor([0.3553])), ('bias', tensor([0.4449]))])\n",
      "Epoch: 210 | Loss: 0.06619606912136078 | Test loss: 0.15430457890033722\n",
      "OrderedDict([('weights', tensor([0.3723])), ('bias', tensor([0.4374]))])\n",
      "Epoch: 220 | Loss: 0.06276734173297882 | Test loss: 0.14603202044963837\n",
      "OrderedDict([('weights', tensor([0.3894])), ('bias', tensor([0.4304]))])\n",
      "Epoch: 230 | Loss: 0.059328533709049225 | Test loss: 0.1377594918012619\n",
      "OrderedDict([('weights', tensor([0.4066])), ('bias', tensor([0.4234]))])\n",
      "Epoch: 240 | Loss: 0.055894143879413605 | Test loss: 0.13017383217811584\n",
      "OrderedDict([('weights', tensor([0.4236])), ('bias', tensor([0.4159]))])\n",
      "Epoch: 250 | Loss: 0.052463728934526443 | Test loss: 0.12190127372741699\n",
      "OrderedDict([('weights', tensor([0.4407])), ('bias', tensor([0.4089]))])\n",
      "Epoch: 260 | Loss: 0.04902491718530655 | Test loss: 0.11362874507904053\n",
      "OrderedDict([('weights', tensor([0.4579])), ('bias', tensor([0.4019]))])\n",
      "Epoch: 270 | Loss: 0.045592207461595535 | Test loss: 0.10604308545589447\n",
      "OrderedDict([('weights', tensor([0.4748])), ('bias', tensor([0.3944]))])\n",
      "Epoch: 280 | Loss: 0.04216010123491287 | Test loss: 0.09777054935693741\n",
      "OrderedDict([('weights', tensor([0.4920])), ('bias', tensor([0.3874]))])\n",
      "Epoch: 290 | Loss: 0.03872130066156387 | Test loss: 0.08949799835681915\n",
      "OrderedDict([('weights', tensor([0.5091])), ('bias', tensor([0.3804]))])\n",
      "Epoch: 300 | Loss: 0.03529027849435806 | Test loss: 0.0819123387336731\n",
      "OrderedDict([('weights', tensor([0.5261])), ('bias', tensor([0.3729]))])\n",
      "Epoch: 310 | Loss: 0.0318564809858799 | Test loss: 0.07363979518413544\n",
      "OrderedDict([('weights', tensor([0.5433])), ('bias', tensor([0.3659]))])\n",
      "Epoch: 320 | Loss: 0.0284176804125309 | Test loss: 0.06536726653575897\n",
      "OrderedDict([('weights', tensor([0.5604])), ('bias', tensor([0.3589]))])\n",
      "Epoch: 330 | Loss: 0.024988343939185143 | Test loss: 0.05778159946203232\n",
      "OrderedDict([('weights', tensor([0.5774])), ('bias', tensor([0.3514]))])\n",
      "Epoch: 340 | Loss: 0.021552862599492073 | Test loss: 0.04950905591249466\n",
      "OrderedDict([('weights', tensor([0.5945])), ('bias', tensor([0.3444]))])\n"
     ]
    }
   ],
   "source": [
    "from cgi import test\n",
    "\n",
    "\n",
    "torch.manual_seed(123)\n",
    "\n",
    "# An epoch is one loop through the data...(this is a hyperparameters because we 've set it ourselves)\n",
    "epochs = 350\n",
    "\n",
    "epoch_count = []\n",
    "loss_values = []\n",
    "test_loss_values = []\n",
    "\n",
    "### Training\n",
    "# 0. Loop through the data\n",
    "for epoch in range(epochs):\n",
    "    # Set the model to train mode\n",
    "    model_0.train() # train mode in PyTorch sets all parameters that require gradients to require gradients\n",
    "    \n",
    "    # 1. Forward pass\n",
    "    y_pred = model_0(x_train)\n",
    "\n",
    "    # 2. Calculate the loss\n",
    "    loss = loss_fn(y_pred, y_train)\n",
    "\n",
    "    # 3. Optimizer zero grad\n",
    "    optimizer.zero_grad()\n",
    "    \n",
    "    # 4. Perform backpropagation on the loss with respect to the parameters of the model\n",
    "    loss.backward()\n",
    "\n",
    "    # 5. Step the optimizer (perform gradient descent)\n",
    "    optimizer.step() # by default how the optimizer changes will acculumate through the loop so... we have to zero them above in step 3 for the next iteration of the loop\n",
    "\n",
    "    ### Testin\n",
    "    model_0.eval() # turns off different settings in the model not needed for evaluation/testing (dropout/batch norm layers)\n",
    "    with torch.inference_mode(): # turns off gradient tracking & a couple more things behind the scenes\n",
    "    # with torch.no_grad(): # you may also see torch.no_grad() in order PyTorch code\n",
    "        # 1. Do the forward pass\n",
    "        test_pred = model_0(x_test)\n",
    "\n",
    "        # 2. Calculate the loss\n",
    "        test_loss = loss_fn(test_pred, y_test)\n",
    "    # print out what's happenin'\n",
    "    if epoch % 10 == 0:\n",
    "        epoch_count.append(epoch)\n",
    "        loss_values.append(loss)\n",
    "        test_loss_values.append(test_loss)\n",
    "        print(f'Epoch: {epoch} | Loss: {loss} | Test loss: {test_loss}')\n",
    "        # print out model state_dict()\n",
    "        print(model_0.state_dict())"
   ]
  },
  {
   "cell_type": "code",
   "execution_count": 151,
   "metadata": {},
   "outputs": [
    {
     "data": {
      "text/plain": [
       "<matplotlib.legend.Legend at 0x7f350016fca0>"
      ]
     },
     "execution_count": 151,
     "metadata": {},
     "output_type": "execute_result"
    },
    {
     "data": {
      "image/png": "[encoded data removed]",
      "text/plain": [
       "<Figure size 640x480 with 1 Axes>"
      ]
     },
     "metadata": {},
     "output_type": "display_data"
    }
   ],
   "source": [
    "# Plot the loss curves\n",
    "plt.plot(epoch_count, np.array(torch.tensor(loss_values).numpy()), label='Train loss')\n",
    "plt.plot(epoch_count, test_loss_values, label='Test loss')\n",
    "plt.title('Training and test loss curves')\n",
    "plt.ylabel('Loss')\n",
    "plt.xlabel('Epochs')\n",
    "plt.legend()"
   ]
  },
  {
   "cell_type": "code",
   "execution_count": 152,
   "metadata": {},
   "outputs": [
    {
     "data": {
      "text/plain": [
       "OrderedDict([('weights', tensor([0.6099])), ('bias', tensor([0.3379]))])"
      ]
     },
     "execution_count": 152,
     "metadata": {},
     "output_type": "execute_result"
    }
   ],
   "source": [
    "model_0.state_dict()"
   ]
  },
  {
   "cell_type": "code",
   "execution_count": 153,
   "metadata": {},
   "outputs": [
    {
     "data": {
      "text/plain": [
       "(0.7, 0.3)"
      ]
     },
     "execution_count": 153,
     "metadata": {},
     "output_type": "execute_result"
    }
   ],
   "source": [
    "weight, bias"
   ]
  },
  {
   "cell_type": "code",
   "execution_count": 154,
   "metadata": {},
   "outputs": [],
   "source": [
    "with torch.inference_mode():\n",
    "    y_preds_new = model_0(x_test)"
   ]
  },
  {
   "cell_type": "code",
   "execution_count": 155,
   "metadata": {},
   "outputs": [
    {
     "data": {
      "image/png": "[encoded data removed]",
      "text/plain": [
       "<Figure size 1000x700 with 1 Axes>"
      ]
     },
     "metadata": {},
     "output_type": "display_data"
    }
   ],
   "source": [
    "plot_predictions(predictions=y_preds_new)"
   ]
  },
  {
   "cell_type": "markdown",
   "metadata": {},
   "source": [
    "## 4. Saving a model in PyTorch\n",
    "\n",
    "There are three main methods you should about for saving and loading models in PyTorch.\n",
    "\n",
    "1. `torch.save()` - allows you save a PyTorch object in python's pickle format\n",
    "2. `torch.load()` - allows you to load a saved PyTorch object\n",
    "3. `torch.nn.module.load_state_dict()` - allows you to load a model's saved state dictionary"
   ]
  },
  {
   "cell_type": "code",
   "execution_count": 159,
   "metadata": {},
   "outputs": [
    {
     "name": "stdout",
     "output_type": "stream",
     "text": [
      "Saving model to: models/pytorch_workflow_model_0.pth\n"
     ]
    }
   ],
   "source": [
    "# saving our PyTorch model\n",
    "from pathlib import Path\n",
    "\n",
    "# 1. Create model directory\n",
    "MODEL_PATH = Path('models')\n",
    "MODEL_PATH.mkdir(parents=True, exist_ok=True)\n",
    "\n",
    "# 2. Create model save path\n",
    "MODEL_NAME = 'pytorch_workflow_model_0.pth'\n",
    "MODEL_SAVE_PATH = MODEL_PATH / MODEL_NAME\n",
    "\n",
    "# 3. Save the model state dict\n",
    "print(f'Saving model to: {MODEL_SAVE_PATH}')\n",
    "torch.save(obj=model_0.state_dict(),f=MODEL_SAVE_PATH)"
   ]
  },
  {
   "cell_type": "markdown",
   "metadata": {},
   "source": [
    "## 5. Loading a PyTorch model\n",
    "\n",
    "Since we saved our model's `state_dict()` rather the entier model, we 'll create a new instance of our model class and load the saved `state_dict()` into that."
   ]
  },
  {
   "cell_type": "code",
   "execution_count": 160,
   "metadata": {},
   "outputs": [
    {
     "data": {
      "text/plain": [
       "OrderedDict([('weights', tensor([0.6099])), ('bias', tensor([0.3379]))])"
      ]
     },
     "execution_count": 160,
     "metadata": {},
     "output_type": "execute_result"
    }
   ],
   "source": [
    "model_0.state_dict()"
   ]
  },
  {
   "cell_type": "code",
   "execution_count": 161,
   "metadata": {},
   "outputs": [],
   "source": [
    "# To load in a saved state_dict we have to instantiate a new instance of our model class \n",
    "loaded_model_0 = linearRegressionModel()"
   ]
  },
  {
   "cell_type": "code",
   "execution_count": 162,
   "metadata": {},
   "outputs": [
    {
     "data": {
      "text/plain": [
       "OrderedDict([('weights', tensor([-0.1115])), ('bias', tensor([0.1204]))])"
      ]
     },
     "execution_count": 162,
     "metadata": {},
     "output_type": "execute_result"
    }
   ],
   "source": [
    "loaded_model_0.state_dict()"
   ]
  },
  {
   "cell_type": "code",
   "execution_count": 163,
   "metadata": {},
   "outputs": [
    {
     "data": {
      "text/plain": [
       "<All keys matched successfully>"
      ]
     },
     "execution_count": 163,
     "metadata": {},
     "output_type": "execute_result"
    }
   ],
   "source": [
    "# Load the saved state_dict of model_0 (this will update the new instance with updated parameters)\n",
    "loaded_model_0.load_state_dict(torch.load(f=MODEL_SAVE_PATH))"
   ]
  },
  {
   "cell_type": "code",
   "execution_count": 164,
   "metadata": {},
   "outputs": [
    {
     "data": {
      "text/plain": [
       "OrderedDict([('weights', tensor([0.6099])), ('bias', tensor([0.3379]))])"
      ]
     },
     "execution_count": 164,
     "metadata": {},
     "output_type": "execute_result"
    }
   ],
   "source": [
    "loaded_model_0.state_dict()"
   ]
  },
  {
   "cell_type": "code",
   "execution_count": 165,
   "metadata": {},
   "outputs": [
    {
     "data": {
      "text/plain": [
       "tensor([[0.8258],\n",
       "        [0.8380],\n",
       "        [0.8502],\n",
       "        [0.8624],\n",
       "        [0.8746],\n",
       "        [0.8868],\n",
       "        [0.8990],\n",
       "        [0.9112],\n",
       "        [0.9234],\n",
       "        [0.9356]])"
      ]
     },
     "execution_count": 165,
     "metadata": {},
     "output_type": "execute_result"
    }
   ],
   "source": [
    "# Make some predictions with our loaded model\n",
    "loaded_model_0.eval()\n",
    "with torch.inference_mode():\n",
    "    loaded_model_preds = loaded_model_0(x_test)\n",
    "\n",
    "loaded_model_preds"
   ]
  },
  {
   "cell_type": "code",
   "execution_count": 167,
   "metadata": {},
   "outputs": [
    {
     "data": {
      "text/plain": [
       "tensor([[0.8258],\n",
       "        [0.8380],\n",
       "        [0.8502],\n",
       "        [0.8624],\n",
       "        [0.8746],\n",
       "        [0.8868],\n",
       "        [0.8990],\n",
       "        [0.9112],\n",
       "        [0.9234],\n",
       "        [0.9356]])"
      ]
     },
     "execution_count": 167,
     "metadata": {},
     "output_type": "execute_result"
    }
   ],
   "source": [
    "# Make some model preds\n",
    "model_0.eval()\n",
    "with torch.inference_mode():\n",
    "    y_preds = model_0(x_test)\n",
    "\n",
    "y_preds"
   ]
  },
  {
   "cell_type": "code",
   "execution_count": 168,
   "metadata": {},
   "outputs": [
    {
     "data": {
      "text/plain": [
       "tensor([[True],\n",
       "        [True],\n",
       "        [True],\n",
       "        [True],\n",
       "        [True],\n",
       "        [True],\n",
       "        [True],\n",
       "        [True],\n",
       "        [True],\n",
       "        [True]])"
      ]
     },
     "execution_count": 168,
     "metadata": {},
     "output_type": "execute_result"
    }
   ],
   "source": [
    "# Compare loaded model preds with  original model preds\n",
    "y_preds == loaded_model_preds"
   ]
  },
  {
   "cell_type": "markdown",
   "metadata": {},
   "source": [
    "## 6. Putting it all together"
   ]
  },
  {
   "cell_type": "code",
   "execution_count": 169,
   "metadata": {},
   "outputs": [],
   "source": [
    "import torch\n",
    "from torch import nn\n",
    "import matplotlib.pyplot as plt\n",
    "from pathlib import Path\n",
    "import numpy as np"
   ]
  },
  {
   "cell_type": "markdown",
   "metadata": {},
   "source": [
    "Create device-agnostic code.\n",
    "\n",
    "This means if we've got access to a GPU, our code will use it(for potentially faster computing).\n",
    "\n",
    "if no GPU is available, the code will default to use CPU."
   ]
  },
  {
   "cell_type": "code",
   "execution_count": 170,
   "metadata": {},
   "outputs": [
    {
     "name": "stdout",
     "output_type": "stream",
     "text": [
      "using device: cuda\n"
     ]
    }
   ],
   "source": [
    "# Setup device agnostic code\n",
    "device = 'cuda' if torch.cuda.is_available() else 'cpu'\n",
    "print(f'using device: {device}')"
   ]
  },
  {
   "cell_type": "markdown",
   "metadata": {},
   "source": [
    "### 6.1 data"
   ]
  },
  {
   "cell_type": "code",
   "execution_count": 186,
   "metadata": {},
   "outputs": [
    {
     "ename": "SyntaxError",
     "evalue": "invalid syntax. Perhaps you forgot a comma? (4173715937.py, line 37)",
     "output_type": "error",
     "traceback": [
      "\u001b[0;36m  Cell \u001b[0;32mIn[186], line 37\u001b[0;36m\u001b[0m\n\u001b[0;31m    plt.legend(prop={'size'8})\u001b[0m\n\u001b[0m                     ^\u001b[0m\n\u001b[0;31mSyntaxError\u001b[0m\u001b[0;31m:\u001b[0m invalid syntax. Perhaps you forgot a comma?\n"
     ]
    }
   ],
   "source": [
    "# create some data using the linear regression formula of y = weight * X + bias\n",
    "weight = 0.7\n",
    "bias = 0.3\n",
    "\n",
    "# create range values\n",
    "start = 0\n",
    "end = 1\n",
    "step = 0.02\n",
    "\n",
    "# Create X and y (features and labels)\n",
    "X = torch.arange(start, end, step).unsqueeze(dim=1) # without unsqueeze, error will pop up\n",
    "y = weight * X + bias\n",
    "\n",
    "# split data\n",
    "train_split = int(0.8 * len(X))\n",
    "x_train, y_train = X[:train_split], y[:train_split]\n",
    "x_test, y_test = X[train_split:], y[train_split:]\n",
    "\n",
    "def plot_predictions(train_data=x_train, train_labels=y_train, test_data=x_test, test_labels=y_test, predictions=None):\n",
    "    \"\"\"\n",
    "    Plots training data, test data and compares predictions.\n",
    "    \"\"\"\n",
    "    plt.figure(figsize=(6, 3))\n",
    "    \n",
    "    # plot training data in blue\n",
    "    plt.scatter(train_data, train_labels, c='b', s=4, label='Training data')\n",
    "\n",
    "    # plot test data in green\n",
    "    plt.scatter(test_data, test_labels, c='g', s=4, label='Testing data')\n",
    "\n",
    "    # are there predictions?\n",
    "    if predictions is not None:\n",
    "        # plot the predictions\n",
    "        plt.scatter(test_data, predictions, c='r', s=4, label='Predictions')\n",
    "    \n",
    "    # show the legend\n",
    "    plt.legend(prop={'size'8})"
   ]
  },
  {
   "cell_type": "markdown",
   "metadata": {},
   "source": [
    "### 6.2 Building a PyTorch linear model"
   ]
  },
  {
   "cell_type": "code",
   "execution_count": 187,
   "metadata": {},
   "outputs": [
    {
     "data": {
      "image/png": "[encoded data removed]",
      "text/plain": [
       "<Figure size 600x300 with 1 Axes>"
      ]
     },
     "metadata": {},
     "output_type": "display_data"
    }
   ],
   "source": [
    "# Create  linear regression model class \n",
    "class linearRegressionModel(nn.Module): # <- almost everything in PyTorch inherhits from nn.Module\n",
    "    def __init__(self):\n",
    "        super().__init__()\n",
    "        self.weights = nn.Parameter(torch.randn(1, requires_grad=True, dtype=torch.float))\n",
    "        self.bias = nn.Parameter(torch.randn(1, requires_grad=True, dtype=torch.float))\n",
    "\n",
    "        # Forward method to define the computaion in the model\n",
    "    def forward(self, x: torch.Tensor) -> torch.Tensor: # <- \"x\" is the input data\n",
    "        return self.weights * x + self.bias # this is the linear regression formula\n",
    "\n",
    "# create a random seed\n",
    "torch.manual_seed(123)\n",
    "\n",
    "# create an instance of the model (this is a subclass of nn.Module)\n",
    "model_0 = linearRegressionModel()\n",
    "\n",
    "# Make predictions with model\n",
    "with torch.inference_mode():\n",
    "    y_preds = model_0(x_test)\n",
    "\n",
    "plot_predictions(predictions=y_preds)"
   ]
  },
  {
   "cell_type": "code",
   "execution_count": null,
   "metadata": {},
   "outputs": [],
   "source": []
  }
 ],
 "metadata": {
  "kernelspec": {
   "display_name": "interpreter",
   "language": "python",
   "name": "python3"
  },
  "language_info": {
   "codemirror_mode": {
    "name": "ipython",
    "version": 3
   },
   "file_extension": ".py",
   "mimetype": "text/x-python",
   "name": "python",
   "nbconvert_exporter": "python",
   "pygments_lexer": "ipython3",
   "version": "3.10.12"
  }
 },
 "nbformat": 4,
 "nbformat_minor": 2
}
